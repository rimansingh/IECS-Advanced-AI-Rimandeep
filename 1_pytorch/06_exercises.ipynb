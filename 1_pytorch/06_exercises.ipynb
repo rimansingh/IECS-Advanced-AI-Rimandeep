{
 "cells": [
  {
   "cell_type": "markdown",
   "metadata": {},
   "source": [
    "# 1. 3D Tensor dataset"
   ]
  },
  {
   "cell_type": "markdown",
   "metadata": {},
   "source": [
    "In this notebook, we create a custom dataset class named Random3DTensorDataset that extends PyTorch's Dataset. This dataset generates random 3D tensors and corresponding random binary labels."
   ]
  },
  {
   "cell_type": "code",
   "execution_count": 1,
   "metadata": {},
   "outputs": [
    {
     "name": "stdout",
     "output_type": "stream",
     "text": [
      "Tensor batch shape: torch.Size([10, 3, 32, 32])\n",
      "Labels: tensor([1, 0, 0, 1, 1, 1, 1, 1, 0, 1])\n"
     ]
    }
   ],
   "source": [
    "import torch\n",
    "from torch.utils.data import Dataset, DataLoader\n",
    "\n",
    "class Random3DTensorDataset(Dataset):\n",
    "    def __init__(self, num_samples: int, tensor_shape: tuple = (3, 32, 32)):\n",
    "        \"\"\"\n",
    "        Args:\n",
    "            num_samples (int): Number of samples in the dataset.\n",
    "            tensor_shape (tuple): Shape of the 3D tensor (e.g., (channels, height, width)).\n",
    "        \"\"\"\n",
    "        self.num_samples = num_samples\n",
    "        self.tensor_shape = tensor_shape\n",
    "\n",
    "    def __len__(self):\n",
    "        return self.num_samples\n",
    "\n",
    "    def __getitem__(self, idx):\n",
    "        # Create a random 3D tensor with the specified shape.\n",
    "        tensor = torch.rand(self.tensor_shape)\n",
    "        # Generate a random label: 0 or 1.\n",
    "        label = torch.randint(0, 2, (1,)).item()\n",
    "        return tensor, label\n",
    "\n",
    "# Example usage:\n",
    "if __name__ == \"__main__\":\n",
    "    # Create a dataset with 100 samples; each sample is a 3x32x32 tensor.\n",
    "    dataset = Random3DTensorDataset(num_samples=100, tensor_shape=(3, 32, 32))\n",
    "    \n",
    "    # Create a DataLoader to iterate through the dataset in batches.\n",
    "    dataloader = DataLoader(dataset, batch_size=10, shuffle=True)\n",
    "    \n",
    "    # Get a single batch and print the shape of tensors and the labels.\n",
    "    for batch_tensors, batch_labels in dataloader:\n",
    "        print(\"Tensor batch shape:\", batch_tensors.shape)  # Should be [10, 3, 32, 32]\n",
    "        print(\"Labels:\", batch_labels)                     # 10 labels (0 or 1)\n",
    "        break\n"
   ]
  }
 ],
 "metadata": {
  "kernelspec": {
   "display_name": "Python 3",
   "language": "python",
   "name": "python3"
  },
  "language_info": {
   "codemirror_mode": {
    "name": "ipython",
    "version": 3
   },
   "file_extension": ".py",
   "mimetype": "text/x-python",
   "name": "python",
   "nbconvert_exporter": "python",
   "pygments_lexer": "ipython3",
   "version": "3.11.3"
  }
 },
 "nbformat": 4,
 "nbformat_minor": 2
}
